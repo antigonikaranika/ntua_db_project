{
 "cells": [
  {
   "cell_type": "code",
   "execution_count": 1,
   "metadata": {},
   "outputs": [],
   "source": [
    "%run helper_functions.ipynb"
   ]
  },
  {
   "cell_type": "code",
   "execution_count": 2,
   "metadata": {},
   "outputs": [],
   "source": [
    "import string"
   ]
  },
  {
   "cell_type": "code",
   "execution_count": 3,
   "metadata": {},
   "outputs": [
    {
     "name": "stdin",
     "output_type": "stream",
     "text": [
      "Enter username:  myadmin\n",
      "Enter password:  ········\n"
     ]
    }
   ],
   "source": [
    "try:\n",
    "    conn = mariadb.connect(\n",
    "        host=\"localhost\",\n",
    "        port=3306,\n",
    "        user=input(\"Enter username: \"),\n",
    "        password=getpass(\"Enter password: \"),\n",
    "        database=\"ntua_db_project\")\n",
    "                \n",
    "except Exception as e:\n",
    "    print(f\"Error: {e}\")\n",
    "    sys.exit(1)\n",
    "\n",
    "conn.autocommit = True"
   ]
  },
  {
   "cell_type": "code",
   "execution_count": 4,
   "metadata": {},
   "outputs": [],
   "source": [
    "#Dummy data for everything episode related\n",
    "dates = [random_date(season_dates[season], season_dates[season+1], random.random()) for season in range(N_SEASONS) for episode in range(N_EPISODES_PER_SEASON)]\n",
    "for episode in range(N_EPISODES):\n",
    "    cur = conn.cursor()\n",
    "    dummy_episode_release_date = dates.pop(0)\n",
    "    fill_episode(cur, dummy_episode_release_date, dummy_flag=True)"
   ]
  },
  {
   "cell_type": "code",
   "execution_count": 5,
   "metadata": {},
   "outputs": [],
   "source": [
    "cur = conn.cursor()\n",
    "consists_of = []\n",
    "uses = []\n",
    "cur.execute(\"SELECT Recipe_ID FROM Recipe\")\n",
    "recipes = cur.fetchall()\n",
    "cur.execute(\"SELECT Utensil_ID FROM Utensil\")\n",
    "utensils = cur.fetchall()\n",
    "for recipe in recipes:\n",
    "    #Dummy data for Consists_of\n",
    "    for step in range(1, random.choice(range(5, 11))):\n",
    "        cur.execute(f\"SELECT Step_ID FROM Step WHERE Execution_Order = {step}\")\n",
    "        choose_steps = cur.fetchall()\n",
    "        consists_of.append(tuple((recipe[0], random.choice(choose_steps)[0])))\n",
    "\n",
    "    #Dummy data for Uses\n",
    "    choose_utensils = random.sample(utensils, random.choice(range(3, 10)))\n",
    "    for utensil in choose_utensils:\n",
    "        uses.append(tuple((recipe[0], utensil[0])))\n",
    "        \n",
    "\n",
    "cur.executemany(\"INSERT INTO Consists_of (Recipe_ID, Step_ID) VALUES (?, ?)\", consists_of)\n",
    "cur.executemany(\"INSERT INTO Uses (Recipe_ID, Utensil_ID) VALUES (?, ?)\", uses)"
   ]
  },
  {
   "cell_type": "code",
   "execution_count": 6,
   "metadata": {},
   "outputs": [],
   "source": [
    "#temp = ['Spaghetti Carbonara', 'Margherita Pizza', 'Tiramisu', 'Chicken Enchiladas', 'Beef Tacos', 'Guacamole', 'Churros', 'Chiles Rellenos', 'Mole Poblano', 'Kung Pao Chicken', 'Peking Duck', 'Spring Rolls', 'Egg Fried Rice', 'Mapo Tofu', 'Coq au Vin', 'Ratatouille', 'Quiche Lorraine', 'French Onion Soup', 'Beef Bourguignon', 'Chicken Tikka Masala', 'Vegetable Biryani', 'Palak Paneer', 'Paneer Tikka', 'Aloo Gobi', 'Chicken Teriyaki', 'Sushi Rolls', 'Miso Soup', 'Yakitori', 'Okonomiyaki', 'Pad Thai', 'Tom Yum Soup', 'Green Curry Chicken', 'Pad See Ew', 'Som Tum', 'Greek Salad', 'Moussaka', 'Spanakopita', 'Souvlaki', 'Hummus', 'Falafel', 'Tabbouleh', 'Kibbeh', 'Feijoada', 'Caipirinha', 'Brigadeiro', 'Moqueca', 'Pão de Queijo', 'Bibimbap', 'Kimchi Jjigae', 'Kimchi Fried Rice', 'Dakgalbi', 'Pho', 'Banh Mi', 'Goi Cuon', 'Bun Bo Hue', 'Greek Lemon Chicken', 'Shakshuka', 'Paella', 'Gazpacho', 'Sauerbraten', 'Pretzels', 'Kebab', 'Baklava', 'Borscht', 'Pelmeni', 'Jerk Chicken', 'Ackee and Saltfish', 'Tagine', 'Couscous', 'Ceviche', 'Lomo Saltado', 'Swedish Meatballs', 'Raggmunk', 'Adobo', 'Sinigang', 'Irish Stew', 'Boxty', 'Pavlova', 'Lamingtons', 'Asado', 'Empanadas', 'Poutine', 'Butter Tarts', 'Doro Wat', 'Injera', 'Bobotie', 'Braai', 'Nasi Goreng', 'Satay', 'Bacalhau à Brás', 'Pastéis de Nata', 'Israeli Falafel', 'Israeli Hummus', 'Ropa Vieja', 'Cuban Sandwich', 'Haggis', 'Shortbread', 'Lutefisk', 'Krumkake', 'Kalua Pig', 'Poke Bowl', 'Biryani', 'Chapati', 'Lamprais', 'Hoppers', 'Tunisian Couscous', 'Brik', 'Wiener Schnitzel', 'Apfelstrudel', 'Rösti', 'Fondue']"
   ]
  },
  {
   "cell_type": "code",
   "execution_count": 7,
   "metadata": {},
   "outputs": [],
   "source": [
    "ingredients = [('Swiss Cheese', 2), ('Mayonnaise', 2), ('Ghee', 7), ('Spaghetti', 1), ('Ginger', 6), ('Green Curry Paste', 12), ('Duck', 5), ('Dashi', 10), ('Feta Cheese', 2), ('Pizza Dough', 1), ('Ground Pork', 5), ('Cilantro', 6), ('White Fish', 5), ('Hoisin Sauce', 10), ('Sake', 11), ('Cheddar Cheese', 2), ('Coconut Milk', 7), ('Soy Sauce', 10), ('Chicken Pieces', 5), ('Oil', 7), ('Cinnamon', 12), ('Eggplant', 6), ('Churros Dough', 1), ('Bean Sprouts', 6), ('Cream', 2), ('Fish Fillets', 5), ('Beef Broth', 10), ('Ham', 5), ('Parsley', 6), ('Onions', 6), ('Spring Roll Wrappers', 1), ('Fresh Parsley', 6), ('Fresh Basil', 6), ('Firm Tofu', 9), ('Ladyfingers', 1), ('Lime Juice', 10), ('Red Wine', 11), ('Garam Masala', 12), ('Scallions', 6), ('Sesame Seeds', 9), ('Tofu', 9), ('Black Pepper', 12), ('Ground Beef', 5), ('White Wine', 11), ('Fish Sauce', 10), ('Ground Lamb', 5), ('Kaffir Lime Leaves', 6), ('Shrimp', 5), ('Beef Chuck', 5), ('Cumin', 12), ('Taco Shells', 1), ('Mint', 12), ('Eggs', 4), ('Pork Belly', 5), ('Yakisoba Noodles', 1), ('Peanuts', 9), ('Rice Noodles', 1), ('Potatoes', 6), ('Bell Peppers', 6), ('Dried Shrimp', 12), ('Tandoori Paste', 12), ('Ground Nutmeg', 12), ('Dark Soy Sauce', 10), ('Chocolate', 11), ('Breadcrumbs', 1), ('Salt', 10), ('Pancetta', 5), ('Mascarpone Cheese', 2), ('Flat Rice Noodles', 1), ('Turmeric', 12), ('Galangal', 6), ('Cabbage', 6), ('Olive Oil', 7), ('Beef Mince', 5), ('Tamarind Paste', 10), ('Chicken', 5), ('Oyster Sauce', 10), ('Lemon Grass', 6), ('Mirin', 11), ('Garlic', 6), ('Bay Leaves', 6), ('Aonori', 12), ('Bonito Flakes', 5), ('Shrimp Paste', 12), ('Phyllo Dough', 1), ('Green Papaya', 6), ('Basil Leaves', 6), ('Red Onion', 6), ('Long Beans', 6), ('Broccoli', 6), ('Naan Bread', 1), ('Chicken Breasts', 5), ('Katsuobushi', 5), ('Red Wine Vinegar', 10), ('Beef Stock', 10), ('Corn Tortillas', 1), ('Ricotta Cheese', 2), ('Beef Sirloin', 5), ('Spinach', 6), ('Almonds', 9), ('Okonomiyaki Sauce', 10), ('Okonomiyaki Batter', 1), ('Ground Allspice', 12), ('Rosemary', 6), ('Ratatouille', 1), ('Beef', 5), ('Sesame Oil', 7), ('Coconut Cream', 7), ('Cornstarch', 1), ('Zucchini', 6), ('Paneer Cheese', 2), ('Guacamole', 6), ('Vegetable Oil', 7), ('Rice', 1), ('Thai Basil', 6), ('Mushrooms', 6), ('Celery', 6), ('Chili Peppers', 6), ('Green Onions', 6), ('Nori', 1), ('Butter', 7), ('Sugar', 10), ('Gruyere Cheese', 2), ('Chicken Breast', 5), ('Cucumber', 6), ('Tomato Paste', 10), ('Palm Sugar', 10), ('Pie Crust', 1), ('Poblano Peppers', 6), ('Coriander', 6), ('Bouquet Garni', 6), ('Greek Olives', 6), ('Chickpeas', 9), ('Thyme', 6), ('Yogurt', 2), ('Chinese Broccoli', 6), ('Bacon', 5), ('Szechuan Peppercorns', 12), ('Heavy Cream', 2), ('Basmati Rice', 1), ('Parmesan Cheese', 2), ('Green Beans', 6), ('Cinnamon Sugar', 10), ('Carrots', 6), ('Red Curry Paste', 12), ('Mozzarella Cheese', 2), ('Chicken Broth', 10), ('Tomato Sauce', 10), ('Lemon Juice', 10), ('Flour', 1), ('Cocoa Powder', 11), ('Seaweed', 6), ('Tomatoes', 6), ('Lemongrass', 6), ('Miso Paste', 12), ('Honey', 10), ('Onion', 6), ('Milk', 2), ('Chicken Thighs', 5), ('Dijon Mustard', 12), ('Enchilada Sauce', 10), ('Rice Vinegar', 10), ('Wide Rice Noodles', 1), ('Nutmeg', 12), ('Lime', 6), ('Oregano', 12), ('Lettuce', 6), ('Espresso Coffee', 11), ('Chicken Stock', 10)]"
   ]
  },
  {
   "cell_type": "code",
   "execution_count": 8,
   "metadata": {},
   "outputs": [],
   "source": [
    "image_ingredients = [(name, food_group_id, generate_image_url(name), generate_lorem_ipsum()) for name, food_group_id in ingredients]"
   ]
  },
  {
   "cell_type": "code",
   "execution_count": 9,
   "metadata": {},
   "outputs": [],
   "source": [
    "cur.executemany(\"INSERT INTO Ingredient (Ingredient_Name, Food_Group_ID, Image, Image_Desc) VALUES (?, ?, ?, ?)\", image_ingredients)"
   ]
  },
  {
   "cell_type": "code",
   "execution_count": 10,
   "metadata": {},
   "outputs": [],
   "source": [
    "cur = conn.cursor()\n",
    "macronutrients = []\n",
    "#Could create different probability for subranges to make it more realistic\n",
    "calories_range = range(30, 605, 5)\n",
    "carbs_range = range(0, 61)\n",
    "fats_range = range(1, 51)\n",
    "protein_range = range(1, 31)\n",
    "for counter, ingredient in enumerate(ingredients, 1):\n",
    "    calories = random.choice(calories_range)\n",
    "    carbs = round(random.choice(carbs_range) * random.random(), 1)\n",
    "    fats = round(random.choice(fats_range) * random.random(), 1)\n",
    "    protein = round(random.choice(protein_range) * random.random(), 1)\n",
    "    macronutrients.append(tuple((counter, calories, carbs, fats, protein)))\n",
    "    \n",
    "    \n",
    "cur.executemany(\"INSERT INTO Macronutrients (Ingredient_ID, Calories_100g, Carbs_100g, Fats_100g, Protein_100g) VALUES (?, ?, ?, ?, ?)\", macronutrients)"
   ]
  },
  {
   "cell_type": "code",
   "execution_count": 11,
   "metadata": {},
   "outputs": [],
   "source": [
    "requires = []\n",
    "#Could create different probability for subranges to make it more realistic\n",
    "quantity_range = range(20, 1010, 10)\n",
    "for recipe in recipes:\n",
    "    temp = []\n",
    "     #Each recipes has between 3 and 10 ingredients\n",
    "    for ingredient in random.sample(range(1, len(ingredients)+1), random.choice(range(4, 11))):\n",
    "        temp.append([False, random.choice(quantity_range), ingredient, recipe[0]])\n",
    "\n",
    "    temp[0][0] = True #Change first random ingredient to primary\n",
    "    for record in temp:\n",
    "        requires.append(tuple((record)))\n",
    "\n",
    "\n",
    "cur.executemany(\"INSERT INTO Requires (Is_Primary, Quantity, Ingredient_ID, Recipe_ID) VALUES (?, ?, ?, ?)\", requires)"
   ]
  },
  {
   "cell_type": "code",
   "execution_count": 12,
   "metadata": {},
   "outputs": [],
   "source": [
    "cur = conn.cursor()\n",
    "create_admins(cur)\n",
    "cur = conn.cursor()\n",
    "create_cooks(cur)"
   ]
  },
  {
   "cell_type": "code",
   "execution_count": 13,
   "metadata": {},
   "outputs": [],
   "source": [
    "conn.close()"
   ]
  }
 ],
 "metadata": {
  "colab": {
   "authorship_tag": "ABX9TyN911ERrIyxWU3W5mwTh4ok",
   "provenance": []
  },
  "kernelspec": {
   "display_name": "Python 3 (ipykernel)",
   "language": "python",
   "name": "python3"
  },
  "language_info": {
   "codemirror_mode": {
    "name": "ipython",
    "version": 3
   },
   "file_extension": ".py",
   "mimetype": "text/x-python",
   "name": "python",
   "nbconvert_exporter": "python",
   "pygments_lexer": "ipython3",
   "version": "3.12.3"
  }
 },
 "nbformat": 4,
 "nbformat_minor": 4
}
